{
 "cells": [
  {
   "cell_type": "markdown",
   "metadata": {},
   "source": [
    "# 6 Comparative analysis"
   ]
  },
  {
   "cell_type": "code",
   "execution_count": 2,
   "metadata": {},
   "outputs": [
    {
     "name": "stdout",
     "output_type": "stream",
     "text": [
      "Processing /home/jovyan/work/latent-dirichlet-allocation\n",
      "Building wheels for collected packages: lda-package\n",
      "  Running setup.py bdist_wheel for lda-package ... \u001b[?25ldone\n",
      "\u001b[?25h  Stored in directory: /home/jovyan/.cache/pip/wheels/55/df/03/5c2615a45fff840cc1dac92c4e9d5fa0e8c00f0d88616624ee\n",
      "Successfully built lda-package\n",
      "Installing collected packages: lda-package\n",
      "  Found existing installation: lda-package 1.0\n",
      "    Uninstalling lda-package-1.0:\n",
      "      Successfully uninstalled lda-package-1.0\n",
      "Successfully installed lda-package-1.0\n"
     ]
    }
   ],
   "source": [
    "! pip install ."
   ]
  },
  {
   "cell_type": "code",
   "execution_count": 38,
   "metadata": {},
   "outputs": [],
   "source": [
    "import lda_package\n",
    "import numpy as np\n",
    "from scipy.special import digamma, polygamma\n",
    "import matplotlib.pyplot as plt \n",
    "import gensim"
   ]
  },
  {
   "cell_type": "code",
   "execution_count": 13,
   "metadata": {},
   "outputs": [],
   "source": [
    "def perplexity(N, M, gamma, phi):\n",
    "    \n",
    "    \"\"\"\n",
    "    A method to evaluate models with held-out set.\n",
    "    \n",
    "    \"\"\"\n",
    "    preplexity = 0.0\n",
    "    for m in range(M):\n",
    "        for w in range(N[m]):\n",
    "            preplexity += np.log(np.sum(gamma[m,:] * phi[m][w,:]))\n",
    "    return np.exp(-(preplexity / np.sum(N)))\n",
    "    \n",
    "    "
   ]
  },
  {
   "cell_type": "code",
   "execution_count": 40,
   "metadata": {},
   "outputs": [],
   "source": [
    "doc_a = \"\"\"TheWilliam Randolph Hearst Foundation will give 1.25 million to Lincoln Center, Metropolitan\n",
    "        Opera Co., New York Philharmonic and Juilliard School.\"\"\"\n",
    "doc_b = \"\"\" “Our board felt that we had a real opportunity to make a mark on the future of the performing \n",
    "           arts with these grants an act every bit as important as our traditional areas of support in health, \n",
    "           medical research, education and the social services,” Hearst Foundation President Randolph A. Hearst \n",
    "           said Monday in announcing the grants.\"\"\"\n",
    "doc_c = \"\"\"Lincoln Center’s share will be 200000 for its new building, which\n",
    "           will house young artists and provide new public facilities.\"\"\"\n",
    "doc_d = \"\"\"The Metropolitan Opera Co. and New York Philharmonic will receive 400000 each.\"\"\"\n",
    "doc_e = \"\"\"The Juilliard School, where music and the performing arts are taught, will get 250000. \"\"\"\n",
    "doc_f = \"\"\"The Hearst Foundation, a leading supporter of the Lincoln Center Consolidated Corporate Fund, \n",
    "           will make its usual annual $100,000 donation, too.\"\"\"\n",
    "\n",
    "doc_set = [doc_a, doc_b, doc_c, doc_d, doc_e, doc_f]"
   ]
  },
  {
   "cell_type": "code",
   "execution_count": 97,
   "metadata": {},
   "outputs": [],
   "source": [
    "f = open('stop_word.txt', 'r')\n",
    "stop_word = f.read().splitlines()\n",
    "f.close()\n",
    "stop_word = [word.strip() for word in stop_word]\n",
    "texts, dictionary, corpus = lda_package.data_clean(doc_set, stop_word)\n",
    "text_ = lda_package.data_process(texts, dictionary)"
   ]
  },
  {
   "cell_type": "code",
   "execution_count": 98,
   "metadata": {},
   "outputs": [],
   "source": [
    "np.random.seed(64528)\n",
    "\n",
    "M = 6\n",
    "k = 4\n",
    "N = np.array(list(map(len, text_)))\n",
    "V = len(dictionary)\n",
    "V_words = range(V)\n",
    "alpha = np.random.dirichlet(10*np.ones(k),1)[0]\n",
    "beta = np.random.dirichlet(np.ones(V),k)\n",
    "\n",
    "phi = np.array([1/k*np.ones([N[m],k]) for m in range(M)])\n",
    "gamma = np.tile(alpha,(M,1)) + np.tile(N/k,(k,1)).T"
   ]
  },
  {
   "cell_type": "code",
   "execution_count": 109,
   "metadata": {},
   "outputs": [],
   "source": [
    "#LSI\n",
    "lsi = gensim.models.LsiModel(corpus, id2word=dictionary, num_topics=4)"
   ]
  },
  {
   "cell_type": "code",
   "execution_count": 110,
   "metadata": {},
   "outputs": [
    {
     "data": {
      "text/plain": [
       "[(0,\n",
       "  '0.431*\"hearst\" + 0.322*\"grant\" + 0.270*\"foundat\" + 0.217*\"randolph\" + 0.214*\"support\"'),\n",
       " (1,\n",
       "  '-0.354*\"center\" + -0.354*\"lincoln\" + -0.212*\"york\" + -0.212*\"metropolitan\" + -0.212*\"opera\"'),\n",
       " (2,\n",
       "  '0.261*\"york\" + 0.261*\"opera\" + 0.261*\"philharmon\" + 0.261*\"metropolitan\" + 0.220*\"school\"'),\n",
       " (3,\n",
       "  '0.304*\"share\" + 0.304*\"artist\" + 0.304*\"200000\" + 0.304*\"build\" + 0.304*\"facil\"')]"
      ]
     },
     "execution_count": 110,
     "metadata": {},
     "output_type": "execute_result"
    }
   ],
   "source": [
    "lsi.print_topics(num_topics=4, num_words=5)"
   ]
  },
  {
   "cell_type": "code",
   "execution_count": 83,
   "metadata": {},
   "outputs": [],
   "source": [
    "#LDA\n",
    "lda = gensim.models.ldamodel.LdaModel(corpus, num_topics=4, id2word = dictionary)"
   ]
  },
  {
   "cell_type": "code",
   "execution_count": 93,
   "metadata": {},
   "outputs": [
    {
     "data": {
      "text/plain": [
       "[(0, '0.050*\"will\" + 0.032*\"hearst\" + 0.031*\"co\" + 0.031*\"opera\"'),\n",
       " (1, '0.035*\"hearst\" + 0.028*\"grant\" + 0.023*\"real\" + 0.023*\"presid\"'),\n",
       " (2, '0.036*\"hearst\" + 0.035*\"will\" + 0.034*\"school\" + 0.034*\"juilliard\"'),\n",
       " (3, '0.062*\"will\" + 0.062*\"new\" + 0.035*\"center\" + 0.035*\"lincoln\"')]"
      ]
     },
     "execution_count": 93,
     "metadata": {},
     "output_type": "execute_result"
    }
   ],
   "source": [
    "lda.print_topics(num_topics=4, num_words=4)"
   ]
  },
  {
   "cell_type": "code",
   "execution_count": null,
   "metadata": {},
   "outputs": [],
   "source": []
  },
  {
   "cell_type": "code",
   "execution_count": null,
   "metadata": {},
   "outputs": [],
   "source": []
  },
  {
   "cell_type": "code",
   "execution_count": null,
   "metadata": {},
   "outputs": [],
   "source": []
  }
 ],
 "metadata": {
  "kernelspec": {
   "display_name": "Python 3",
   "language": "python",
   "name": "python3"
  },
  "language_info": {
   "codemirror_mode": {
    "name": "ipython",
    "version": 3
   },
   "file_extension": ".py",
   "mimetype": "text/x-python",
   "name": "python",
   "nbconvert_exporter": "python",
   "pygments_lexer": "ipython3",
   "version": "3.6.5"
  }
 },
 "nbformat": 4,
 "nbformat_minor": 2
}
