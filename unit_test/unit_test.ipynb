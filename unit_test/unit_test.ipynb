{
 "cells": [
  {
   "cell_type": "code",
   "execution_count": null,
   "metadata": {},
   "outputs": [],
   "source": []
  },
  {
   "cell_type": "code",
   "execution_count": 1,
   "metadata": {},
   "outputs": [
    {
     "name": "stdout",
     "output_type": "stream",
     "text": [
      "Overwriting test_optimize_vp.py\n"
     ]
    }
   ],
   "source": [
    "%%file test_optimize_vp.py\n",
    "\n",
    "import numpy as np\n",
    "from scipy.special import digamma, polygamma\n",
    "\n",
    "text_ = [np.array([0., 3., 2., 1., 4., 2., 3., 0., 5.]),\n",
    "         np.array([ 5., 11.,  9., 12.,  8.,  1.,  6.,  7., 10.]),\n",
    "         np.array([16., 15., 20.,  8., 18., 14., 17., 21., 13., 19.]),\n",
    "         np.array([25., 23., 19., 26., 29., 27.,  5., 24., 28.,  8.,  1., 22.]),\n",
    "         np.array([16., 30., 31.,  0.,  3., 16.])]\n",
    "np.random.seed(64528)\n",
    "M = 5\n",
    "k = 4\n",
    "N = np.array(list(map(len, text_)))\n",
    "V = 32\n",
    "V_words = range(V)\n",
    "alpha = np.random.dirichlet(10*np.ones(k),1)[0]\n",
    "beta = np.random.dirichlet(np.ones(V),k)\n",
    "\n",
    "phi = np.array([1/k*np.ones([N[m],k]) for m in range(M)])\n",
    "gamma = np.tile(alpha,(M,1)) + np.tile(N/k,(k,1)).T\n",
    "\n",
    "\n",
    "def test_optimize_vp():\n",
    "    K = k\n",
    "    words = text_\n",
    "    \n",
    "    for t in range(10):\n",
    "        phi_old = phi\n",
    "        gamma_old = gamma\n",
    "        #update phi\n",
    "        for m in range(M):\n",
    "            for n in range(N[m]):\n",
    "                for i in range(K):\n",
    "                    phi[m][n,i] = beta[i,np.int(words[m][n])] * np.exp(digamma(gamma[m,i]))\n",
    "                #nomalize to 1)\n",
    "                phi[m][n,:] = phi[m][n,:]/np.sum(phi[m][n,:])\n",
    "        phi_new = phi\n",
    "        #update gamma\n",
    "        for i in range(M):\n",
    "            gamma[i,:]  = alpha + np.sum(phi[i], axis = 0)\n",
    "        gamma_new = gamma\n",
    "\n",
    "        assert np.min(list(map(np.min, phi)))>0\n",
    "        assert all(np.sum(phi[1], axis = 1))==1\n",
    "        assert np.min(gamma)>0\n",
    "\n"
   ]
  },
  {
   "cell_type": "code",
   "execution_count": 2,
   "metadata": {},
   "outputs": [
    {
     "name": "stdout",
     "output_type": "stream",
     "text": [
      "Overwriting test_alpha.py\n"
     ]
    }
   ],
   "source": [
    "%%file test_alpha.py\n",
    "\n",
    "import numpy as np\n",
    "from scipy.special import digamma, polygamma\n",
    "\n",
    "text_ = [np.array([0., 3., 2., 1., 4., 2., 3., 0., 5.]),\n",
    "         np.array([ 5., 11.,  9., 12.,  8.,  1.,  6.,  7., 10.]),\n",
    "         np.array([16., 15., 20.,  8., 18., 14., 17., 21., 13., 19.]),\n",
    "         np.array([25., 23., 19., 26., 29., 27.,  5., 24., 28.,  8.,  1., 22.]),\n",
    "         np.array([16., 30., 31.,  0.,  3., 16.])]\n",
    "np.random.seed(64528)\n",
    "M = 5\n",
    "k = 4\n",
    "N = np.array(list(map(len, text_)))\n",
    "alpha = np.random.dirichlet(10*np.ones(k),1)[0]\n",
    "phi = np.array([1/k*np.ones([N[m],k]) for m in range(M)])\n",
    "gamma = np.tile(alpha,(M,1)) + np.tile(N/k,(k,1)).T\n",
    "\n",
    "def test_alpha():\n",
    "    K = k\n",
    "    alpha = np.random.dirichlet(10*np.ones(k),1)[0]\n",
    "    for t in range(10):\n",
    "        alpha_old = alpha\n",
    "        \n",
    "        g = np.zeros(K)\n",
    "        h = np.zeros(K)\n",
    "        for i in range(K):\n",
    "            g1 = M*(digamma(np.sum(alpha))-digamma(alpha[i]))\n",
    "            g2 = 0\n",
    "            for d in range(M):\n",
    "                g2 += digamma(gamma[d,i])-digamma(np.sum(gamma[d,:]))\n",
    "            g[i] = g1 + g2\n",
    "            \n",
    "            h[i] = -M*polygamma(1, alpha[i])\n",
    "        \n",
    "        z = M*polygamma(1, np.sum(alpha))\n",
    "        c = (np.sum(g/h))/(z**(-1) + np.sum(h**(-1)))\n",
    "                   \n",
    "        alpha -= (g-c)/h\n",
    "            \n",
    "        assert np.min(alpha)>0\n",
    "\n"
   ]
  },
  {
   "cell_type": "code",
   "execution_count": 3,
   "metadata": {},
   "outputs": [
    {
     "name": "stdout",
     "output_type": "stream",
     "text": [
      "Overwriting test_beta.py\n"
     ]
    }
   ],
   "source": [
    "%%file test_beta.py\n",
    "\n",
    "import numpy as np\n",
    "from scipy.special import digamma, polygamma\n",
    "\n",
    "text_ = [np.array([0., 3., 2., 1., 4., 2., 3., 0., 5.]),\n",
    "         np.array([ 5., 11.,  9., 12.,  8.,  1.,  6.,  7., 10.]),\n",
    "         np.array([16., 15., 20.,  8., 18., 14., 17., 21., 13., 19.]),\n",
    "         np.array([25., 23., 19., 26., 29., 27.,  5., 24., 28.,  8.,  1., 22.]),\n",
    "         np.array([16., 30., 31.,  0.,  3., 16.])]\n",
    "np.random.seed(64528)\n",
    "M = 5\n",
    "k = 4\n",
    "N = np.array(list(map(len, text_)))\n",
    "V = 32\n",
    "V_words = range(V)\n",
    "alpha = np.random.dirichlet(10*np.ones(k),1)[0]\n",
    "beta = np.random.dirichlet(np.ones(V),k)\n",
    "\n",
    "phi = np.array([1/k*np.ones([N[m],k]) for m in range(M)])\n",
    "gamma = np.tile(alpha,(M,1)) + np.tile(N/k,(k,1)).T\n",
    "\n",
    "\n",
    "def test_beta():\n",
    "    K = k\n",
    "    D = text_\n",
    "    V = len(V_words)\n",
    "    beta = np.ones((K,V))\n",
    "    # first obtain the propotion values\n",
    "    for j in range(V):\n",
    "        word = V_words[j]\n",
    "        # give a TRUE or FALSE \"matrix\", remember w_mnj should have the same shape with phi\n",
    "        w_mnj = [np.repeat(w==word, K).reshape((len(w),K)) for w in D]\n",
    "        # compute the inner sum over number of words\n",
    "        sum1 = list(map(lambda x: np.sum(x,axis=0),phi*w_mnj))\n",
    "        # compute the outer sum over documents\n",
    "        beta[:,j] = np.sum(np.array(sum1), axis = 0)\n",
    "    \n",
    "    # then normalize each row s.t. the row sum is one\n",
    "    for i in range(K):\n",
    "        beta[i,:] = beta[i,:]/sum(beta[i,:])\n",
    "        \n",
    "    assert np.min(beta)>0 \n",
    "    assert all(np.sum(beta, axis = 1)==1)"
   ]
  },
  {
   "cell_type": "code",
   "execution_count": 4,
   "metadata": {},
   "outputs": [
    {
     "name": "stdout",
     "output_type": "stream",
     "text": [
      "Overwriting test_converge1.py\n"
     ]
    }
   ],
   "source": [
    "%%file test_converge1.py\n",
    "\n",
    "import numpy as np\n",
    "from scipy.special import digamma, polygamma\n",
    "\n",
    "N = np.array([ 9,  9, 10, 12,  6])\n",
    "M = 5\n",
    "k = 4\n",
    "\n",
    "phi = np.array([1/k*np.ones([N[m],k]) for m in range(M)])\n",
    "\n",
    "def test_converge1():\n",
    "    tol = 10**(-2)\n",
    "    \n",
    "    loss = np.sqrt(list(map(np.sum,np.square(phi - phi))))\n",
    "    assert np.max(loss) <= tol\n"
   ]
  },
  {
   "cell_type": "code",
   "execution_count": 5,
   "metadata": {},
   "outputs": [
    {
     "name": "stdout",
     "output_type": "stream",
     "text": [
      "Overwriting test_converge2.py\n"
     ]
    }
   ],
   "source": [
    "%%file test_converge2.py\n",
    "\n",
    "import numpy as np\n",
    "from scipy.special import digamma, polygamma\n",
    "\n",
    "N = np.array([ 9,  9, 10, 12,  6])\n",
    "M = 5\n",
    "k = 4\n",
    "V = 32\n",
    "alpha = np.random.dirichlet(10*np.ones(k),1)[0]\n",
    "beta = np.random.dirichlet(np.ones(V),k)\n",
    "gamma = np.tile(alpha,(M,1)) + np.tile(N/k,(k,1)).T\n",
    "\n",
    "def test_converge2():\n",
    "    tol = 10**(-2)\n",
    "    \n",
    "    loss1 = np.sqrt(list(map(np.sum,np.square(beta - beta))))\n",
    "    loss2 = np.sqrt(list(map(np.sum,np.square(gamma - gamma))))\n",
    "    assert np.max(loss1) <= tol and np.max(loss2) <= tol"
   ]
  },
  {
   "cell_type": "code",
   "execution_count": 6,
   "metadata": {},
   "outputs": [
    {
     "name": "stdout",
     "output_type": "stream",
     "text": [
      "\u001b[1m============================= test session starts ==============================\u001b[0m\n",
      "platform linux -- Python 3.6.5, pytest-3.5.1, py-1.5.3, pluggy-0.6.0\n",
      "rootdir: /home/jovyan/work/latent-dirichlet-allocation, inifile:\n",
      "collected 5 items                                                              \u001b[0m\u001b[1m\u001b[1m\n",
      "\n",
      "test_alpha.py .\u001b[36m                                                          [ 20%]\u001b[0m\n",
      "test_beta.py .\u001b[36m                                                           [ 40%]\u001b[0m\n",
      "test_converge1.py .\u001b[36m                                                      [ 60%]\u001b[0m\n",
      "test_converge2.py .\u001b[36m                                                      [ 80%]\u001b[0m\n",
      "test_optimize_vp.py .\u001b[36m                                                    [100%]\u001b[0m\n",
      "\n",
      "\u001b[32m\u001b[1m=========================== 5 passed in 0.34 seconds ===========================\u001b[0m\n"
     ]
    }
   ],
   "source": [
    "! pytest"
   ]
  }
 ],
 "metadata": {
  "kernelspec": {
   "display_name": "Python 3",
   "language": "python",
   "name": "python3"
  },
  "language_info": {
   "codemirror_mode": {
    "name": "ipython",
    "version": 3
   },
   "file_extension": ".py",
   "mimetype": "text/x-python",
   "name": "python",
   "nbconvert_exporter": "python",
   "pygments_lexer": "ipython3",
   "version": "3.6.5"
  }
 },
 "nbformat": 4,
 "nbformat_minor": 2
}
