{
 "cells": [
  {
   "cell_type": "markdown",
   "metadata": {},
   "source": [
    "# install package"
   ]
  },
  {
   "cell_type": "code",
   "execution_count": 1,
   "metadata": {},
   "outputs": [
    {
     "name": "stdout",
     "output_type": "stream",
     "text": [
      "Processing /home/jovyan/work/latent-dirichlet-allocation\n",
      "Building wheels for collected packages: lda-package\n",
      "  Running setup.py bdist_wheel for lda-package ... \u001b[?25ldone\n",
      "\u001b[?25h  Stored in directory: /home/jovyan/.cache/pip/wheels/55/df/03/5c2615a45fff840cc1dac92c4e9d5fa0e8c00f0d88616624ee\n",
      "Successfully built lda-package\n",
      "Installing collected packages: lda-package\n",
      "  Found existing installation: lda-package 1.0\n",
      "    Uninstalling lda-package-1.0:\n",
      "      Successfully uninstalled lda-package-1.0\n",
      "Successfully installed lda-package-1.0\n"
     ]
    }
   ],
   "source": [
    "! pip install ."
   ]
  },
  {
   "cell_type": "code",
   "execution_count": 2,
   "metadata": {},
   "outputs": [],
   "source": [
    "import lda_package"
   ]
  },
  {
   "cell_type": "code",
   "execution_count": 3,
   "metadata": {},
   "outputs": [],
   "source": [
    "import numpy as np\n",
    "from scipy.special import digamma, polygamma"
   ]
  },
  {
   "cell_type": "markdown",
   "metadata": {},
   "source": [
    "# Simulated data example"
   ]
  },
  {
   "cell_type": "code",
   "execution_count": 167,
   "metadata": {},
   "outputs": [],
   "source": [
    "   \n",
    "# create sample documents\n",
    "doc_a = \"\"\"TheWilliam Randolph Hearst Foundation will give 1.25 million to Lincoln Center, Metropolitan\n",
    "        Opera Co., New York Philharmonic and Juilliard School.\"\"\"\n",
    "doc_b = \"\"\" “Our board felt that we had a real opportunity to make a mark on the future of the performing \n",
    "           arts with these grants an act every bit as important as our traditional areas of support in health, \n",
    "           medical research, education and the social services,” Hearst Foundation President Randolph A. Hearst \n",
    "           said Monday in announcing the grants.\"\"\"\n",
    "doc_c = \"\"\"Lincoln Center’s share will be 200000 for its new building, which\n",
    "           will house young artists and provide new public facilities.\"\"\"\n",
    "doc_d = \"\"\"The Metropolitan Opera Co. and New York Philharmonic will receive 400000 each.\"\"\"\n",
    "doc_e = \"\"\"The Juilliard School, where music and the performing arts are taught, will get 250000. \"\"\"\n",
    "doc_f = \"\"\"The Hearst Foundation, a leading supporter of the Lincoln Center Consolidated Corporate Fund, \n",
    "           will make its usual annual $100,000 donation, too.\"\"\"\n",
    "\n",
    "doc_set = [doc_a, doc_b, doc_c, doc_d, doc_e, doc_f]"
   ]
  },
  {
   "cell_type": "markdown",
   "metadata": {},
   "source": [
    "# Clean Data"
   ]
  },
  {
   "cell_type": "code",
   "execution_count": 168,
   "metadata": {},
   "outputs": [],
   "source": [
    "# pip install nltk\n",
    "# pip install stop-words\n",
    "# easy_install -U gensim"
   ]
  },
  {
   "cell_type": "code",
   "execution_count": 214,
   "metadata": {},
   "outputs": [],
   "source": [
    "def data_clean(doc_set, stop_word = None):\n",
    "    \n",
    "    \"\"\"\n",
    "    REF: https://rstudio-pubs-static.s3.amazonaws.com/79360_850b2a69980c4488b1db95987a24867a.html\n",
    "    \n",
    "    input: \n",
    "    doc_set: a list of documets, the elements are context of that document\n",
    "    stop_word: if 'stop_word = None', this function will give a sample\n",
    "    \n",
    "    output: \n",
    "    texts:a list of array(documents), each element contains all words in that document\n",
    "    dictionary: a dictionary, key is the id of words, values are unique words\n",
    "    corpus: a list of list, each inner list represents a document. In the inner list, each tuple is (word_id, word_count)\n",
    "    \n",
    "    \"\"\"\n",
    "    \n",
    "    from nltk.tokenize import RegexpTokenizer\n",
    "    from stop_words import get_stop_words\n",
    "    from nltk.stem.porter import PorterStemmer\n",
    "    from gensim import corpora, models\n",
    "    import gensim\n",
    "    \n",
    "    tokenizer = RegexpTokenizer(r'\\w+')\n",
    "    \n",
    "    # create English stop words list\n",
    "    if stop_word==None:\n",
    "        stop_word = get_stop_words('en')\n",
    "        \n",
    "    # Create p_stemmer of class PorterStemmer\n",
    "    p_stemmer = PorterStemmer()\n",
    "    # list for tokenized documents in loop\n",
    "    texts = []\n",
    "\n",
    "    # loop through document list\n",
    "    for i in doc_set:\n",
    "        # clean and tokenize document string\n",
    "        raw = i.lower()\n",
    "        tokens = tokenizer.tokenize(raw)\n",
    "        # remove stop words from tokens\n",
    "        stopped_tokens = [i for i in tokens if not i in stop_word]\n",
    "        # stem tokens\n",
    "        stemmed_tokens = [p_stemmer.stem(i) for i in stopped_tokens]\n",
    "    \n",
    "        # add tokens to list\n",
    "        texts.append(stemmed_tokens)\n",
    "\n",
    "        # turn our tokenized documents into a id <-> term dictionary\n",
    "        dictionary = corpora.Dictionary(texts)\n",
    "    \n",
    "        # convert tokenized documents into a document-term matrix\n",
    "        corpus = [dictionary.doc2bow(text) for text in texts]\n",
    "    \n",
    "    return texts, dictionary, corpus\n"
   ]
  },
  {
   "cell_type": "code",
   "execution_count": null,
   "metadata": {},
   "outputs": [],
   "source": [
    "def data_process(texts, dictionary):\n",
    "\n",
    "    \"\"\"\n",
    "    transform the texts from word-formation into id-formation, which can be used in function variantion_EM()\n",
    "    \n",
    "    \"\"\"\n",
    "    import numpy as np\n",
    "    \n",
    "    text_ = []\n",
    "    for i in range(len(texts)):\n",
    "        text_i = []\n",
    "        for l in range(len(texts[i])):\n",
    "            text_i = np.append(text_i, dictionary.token2id[texts[i][l]])\n",
    "        text_.append(text_i)\n",
    "            \n",
    "    return text_"
   ]
  },
  {
   "cell_type": "code",
   "execution_count": null,
   "metadata": {},
   "outputs": [],
   "source": [
    "texts, dictionary, corpus = data_clean(doc_set)\n",
    "text_ = data_process(texts, dictionary)"
   ]
  },
  {
   "cell_type": "markdown",
   "metadata": {},
   "source": [
    "# Experimental test"
   ]
  },
  {
   "cell_type": "code",
   "execution_count": 229,
   "metadata": {},
   "outputs": [],
   "source": [
    "np.random.seed(64528)\n",
    "\n",
    "M = 6\n",
    "k = 4\n",
    "N = np.array(list(map(len, text_)))\n",
    "V = len(dictionary)\n",
    "V_words = range(V)\n",
    "alpha = np.random.dirichlet(10*np.ones(k),1)[0]\n",
    "beta = np.random.dirichlet(np.ones(V),k)\n",
    "\n",
    "phi = np.array([1/k*np.ones([N[m],k]) for m in range(M)])\n",
    "gamma = np.tile(alpha,(M,1)) + np.tile(N/k,(k,1)).T"
   ]
  },
  {
   "cell_type": "code",
   "execution_count": 230,
   "metadata": {},
   "outputs": [],
   "source": [
    "ans = lda_package.variation_EM(M, k, text_, N, V_words, alpha, beta, gamma, phi, iteration = 1000)"
   ]
  },
  {
   "cell_type": "code",
   "execution_count": 231,
   "metadata": {},
   "outputs": [
    {
     "data": {
      "image/png": "[encoded data removed]",
      "text/plain": [
       "<Figure size 432x288 with 1 Axes>"
      ]
     },
     "metadata": {},
     "output_type": "display_data"
    }
   ],
   "source": [
    "plt.imshow(ans[1].T, aspect='auto')\n",
    "plt.imshow(ans[1].T,interpolation='nearest', aspect='auto')\n",
    "plt.xticks([0, 1, 2, 3], [\"topic 1\", \"topic 2\",\"topic 3\", \"topic 4\"])\n",
    "pass"
   ]
  },
  {
   "cell_type": "code",
   "execution_count": 232,
   "metadata": {},
   "outputs": [],
   "source": [
    "m = dictionary.token2id\n",
    "id2token = dict(zip(m.values(), m.keys()))"
   ]
  },
  {
   "cell_type": "code",
   "execution_count": 233,
   "metadata": {},
   "outputs": [
    {
     "name": "stdout",
     "output_type": "stream",
     "text": [
      "topic 1 \n",
      " 0.06258035061866102 * co + 0.0411663679334841 * new + 0.03960874829765505 * philharmon + 0.03625888930214377 * foundat \n",
      "\n",
      "topic 2 \n",
      " 0.0507455950628512 * metropolitan + 0.048846017700947916 * center + 0.04632554625666445 * make + 0.043617625645694255 * lincoln \n",
      "\n",
      "topic 3 \n",
      " 0.09738722371507769 * hearst + 0.06356043359084296 * randolph + 0.04782145548524448 * perform + 0.03565054837060334 * share \n",
      "\n",
      "topic 4 \n",
      " 0.10152731463363168 * new + 0.052564459004376 * support + 0.03927570181943087 * foundat + 0.03687693265489178 * provid \n",
      "\n"
     ]
    }
   ],
   "source": [
    "order = list(map(np.argsort, ans[1]))\n",
    "for i in range(len(order)):\n",
    "    print(\"topic\", (i+1), \"\\n\", ans[1][i][order[i][-1]], \"*\", id2token[order[i][-1]], \"+\",\n",
    "          ans[1][i][order[i][-2]], \"*\", id2token[order[i][-2]], \"+\",\n",
    "          ans[1][i][order[i][-3]], \"*\", id2token[order[i][-3]], \"+\",\n",
    "          ans[1][i][order[i][-4]], \"*\", id2token[order[i][-4]], '\\n')"
   ]
  },
  {
   "cell_type": "code",
   "execution_count": 234,
   "metadata": {},
   "outputs": [
    {
     "data": {
      "text/plain": [
       "[(0,\n",
       "  '0.057*\"new\" + 0.039*\"lincoln\" + 0.039*\"juilliard\" + 0.038*\"center\" + 0.038*\"school\" + 0.023*\"hous\" + 0.023*\"young\" + 0.023*\"artist\" + 0.023*\"share\" + 0.023*\"provid\"'),\n",
       " (1,\n",
       "  '0.043*\"grant\" + 0.042*\"hearst\" + 0.026*\"area\" + 0.025*\"said\" + 0.025*\"mark\" + 0.025*\"foundat\" + 0.025*\"art\" + 0.025*\"servic\" + 0.025*\"tradit\" + 0.025*\"medic\"'),\n",
       " (2,\n",
       "  '0.035*\"hearst\" + 0.031*\"support\" + 0.028*\"make\" + 0.028*\"foundat\" + 0.023*\"donat\" + 0.023*\"corpor\" + 0.023*\"consolid\" + 0.022*\"grant\" + 0.021*\"usual\" + 0.021*\"lead\"'),\n",
       " (3,\n",
       "  '0.038*\"philharmon\" + 0.037*\"metropolitan\" + 0.037*\"york\" + 0.037*\"new\" + 0.037*\"opera\" + 0.037*\"co\" + 0.034*\"400000\" + 0.034*\"receiv\" + 0.029*\"center\" + 0.028*\"hearst\"')]"
      ]
     },
     "execution_count": 234,
     "metadata": {},
     "output_type": "execute_result"
    }
   ],
   "source": [
    "ldamodel = gensim.models.ldamodel.LdaModel(corpus, num_topics=4, id2word = dictionary)\n",
    "# LDA\n",
    "ldamodel.print_topics(num_topics=4)"
   ]
  },
  {
   "cell_type": "markdown",
   "metadata": {},
   "source": [
    "# Real world data"
   ]
  },
  {
   "cell_type": "code",
   "execution_count": 198,
   "metadata": {},
   "outputs": [],
   "source": [
    "f = open('Test_data/vocab.txt', 'r')\n",
    "vocab = f.read().splitlines()\n",
    "f.close()"
   ]
  },
  {
   "cell_type": "code",
   "execution_count": 200,
   "metadata": {},
   "outputs": [],
   "source": [
    "f = open('Test_data/ap.txt', 'r')\n",
    "ap = f.read().splitlines()\n",
    "f.close()"
   ]
  },
  {
   "cell_type": "code",
   "execution_count": 245,
   "metadata": {},
   "outputs": [],
   "source": [
    "f = open('stop_word.txt', 'r')\n",
    "stop_word = f.read().splitlines()\n",
    "#stop_word = list(map(stop_word, strip)\n",
    "f.close()"
   ]
  },
  {
   "cell_type": "code",
   "execution_count": 250,
   "metadata": {},
   "outputs": [],
   "source": [
    "stop_word = [word.strip() for word in stop_word]"
   ]
  },
  {
   "cell_type": "code",
   "execution_count": 265,
   "metadata": {},
   "outputs": [],
   "source": [
    "from nltk.tokenize import RegexpTokenizer\n",
    "from stop_words import get_stop_words\n",
    "from nltk.stem.porter import PorterStemmer\n",
    "from gensim import corpora, models\n",
    "import gensim\n",
    "\n",
    "tokenizer = RegexpTokenizer(r'\\w+')\n",
    "\n",
    "# create English stop words list\n",
    "en_stop = get_stop_words('en')\n",
    "\n",
    "# Create p_stemmer of class PorterStemmer\n",
    "p_stemmer = PorterStemmer()\n",
    "    \n",
    "# compile sample documents into a list\n",
    "doc_set = ap\n",
    "\n",
    "# list for tokenized documents in loop\n",
    "texts = []\n",
    "\n",
    "# loop through document list\n",
    "for i in doc_set:\n",
    "    \n",
    "    # clean and tokenize document string\n",
    "    raw = i.lower()\n",
    "    tokens = tokenizer.tokenize(raw)\n",
    "\n",
    "    # remove stop words from tokens\n",
    "    stopped_tokens = [i for i in tokens if not i in en_stop]\n",
    "    \n",
    "    # stem tokens\n",
    "    stemmed_tokens = [p_stemmer.stem(i) for i in stopped_tokens]\n",
    "    \n",
    "    # add tokens to list\n",
    "    if len(stemmed_tokens) > 0:\n",
    "        texts.append(stemmed_tokens)\n",
    "\n",
    "# turn our tokenized documents into a id <-> term dictionary\n",
    "dictionary = corpora.Dictionary(texts)\n",
    "    \n",
    "# convert tokenized documents into a document-term matrix\n",
    "corpus = [dictionary.doc2bow(text) for text in texts]\n",
    "\n",
    "# generate LDA model\n",
    "ldamodel = gensim.models.ldamodel.LdaModel(corpus, num_topics=4, id2word = dictionary, passes=20)"
   ]
  },
  {
   "cell_type": "code",
   "execution_count": 266,
   "metadata": {},
   "outputs": [
    {
     "data": {
      "text/plain": [
       "['doc']"
      ]
     },
     "execution_count": 266,
     "metadata": {},
     "output_type": "execute_result"
    }
   ],
   "source": [
    "stemmed_tokens"
   ]
  },
  {
   "cell_type": "code",
   "execution_count": 267,
   "metadata": {},
   "outputs": [
    {
     "data": {
      "text/plain": [
       "[(0,\n",
       "  '0.030*\"docno\" + 0.020*\"said\" + 0.018*\"s\" + 0.008*\"govern\" + 0.007*\"soviet\" + 0.007*\"u\" + 0.006*\"state\" + 0.005*\"offici\" + 0.005*\"unit\" + 0.005*\"presid\"'),\n",
       " (1,\n",
       "  '0.016*\"s\" + 0.015*\"percent\" + 0.014*\"said\" + 0.012*\"1\" + 0.009*\"year\" + 0.008*\"million\" + 0.007*\"market\" + 0.006*\"2\" + 0.006*\"trade\" + 0.006*\"price\"'),\n",
       " (2,\n",
       "  '0.050*\"text\" + 0.016*\"said\" + 0.013*\"s\" + 0.008*\"compani\" + 0.005*\"million\" + 0.005*\"feder\" + 0.004*\"year\" + 0.004*\"new\" + 0.004*\"billion\" + 0.004*\"plan\"'),\n",
       " (3,\n",
       "  '0.025*\"said\" + 0.020*\"s\" + 0.017*\"doc\" + 0.006*\"year\" + 0.006*\"t\" + 0.004*\"one\" + 0.004*\"peopl\" + 0.004*\"state\" + 0.004*\"say\" + 0.004*\"two\"')]"
      ]
     },
     "execution_count": 267,
     "metadata": {},
     "output_type": "execute_result"
    }
   ],
   "source": [
    "# LDA\n",
    "ldamodel.print_topics(num_topics=4)\n"
   ]
  },
  {
   "cell_type": "code",
   "execution_count": 268,
   "metadata": {},
   "outputs": [],
   "source": [
    "text_ = []\n",
    "for i in range(len(texts)):\n",
    "    text_i = []\n",
    "    for l in range(len(texts[i])):\n",
    "        text_i = np.append(text_i, dictionary.token2id[texts[i][l]])\n",
    "    text_.append(text_i)\n"
   ]
  },
  {
   "cell_type": "code",
   "execution_count": null,
   "metadata": {},
   "outputs": [],
   "source": []
  },
  {
   "cell_type": "code",
   "execution_count": 269,
   "metadata": {},
   "outputs": [],
   "source": [
    "np.random.seed(10986)\n",
    "\n",
    "M = len(texts)\n",
    "k = 4\n",
    "N = np.array(list(map(len, text_)))\n",
    "V = len(dictionary)\n",
    "V_words = range(V)\n",
    "alpha = np.random.dirichlet(10*np.ones(k),1)[0]\n",
    "beta = np.random.dirichlet(np.ones(V),k)\n",
    "\n",
    "phi = np.array([1/k*np.ones([N[m],k]) for m in range(M)])\n",
    "gamma = np.tile(alpha,(M,1)) + np.tile(N/k,(k,1)).T"
   ]
  },
  {
   "cell_type": "code",
   "execution_count": 270,
   "metadata": {},
   "outputs": [],
   "source": [
    "ans_real_world = lda_package.variation_EM(M, k, text_, N, V_words, alpha, beta, gamma, phi, iteration = 1000)"
   ]
  },
  {
   "cell_type": "code",
   "execution_count": 271,
   "metadata": {},
   "outputs": [],
   "source": [
    "# file=open('ans_real_world.txt','w')  \n",
    "# file.write(str(ans_real_world));  \n",
    "# file.close()"
   ]
  },
  {
   "cell_type": "code",
   "execution_count": null,
   "metadata": {},
   "outputs": [],
   "source": []
  },
  {
   "cell_type": "code",
   "execution_count": null,
   "metadata": {
    "scrolled": true
   },
   "outputs": [],
   "source": []
  },
  {
   "cell_type": "markdown",
   "metadata": {},
   "source": [
    "# Visualization"
   ]
  },
  {
   "cell_type": "code",
   "execution_count": 279,
   "metadata": {},
   "outputs": [
    {
     "data": {
      "image/png": "[encoded data removed]",
      "text/plain": [
       "<Figure size 576x432 with 4 Axes>"
      ]
     },
     "metadata": {},
     "output_type": "display_data"
    },
    {
     "data": {
      "text/plain": [
       "<Figure size 432x288 with 0 Axes>"
      ]
     },
     "metadata": {},
     "output_type": "display_data"
    }
   ],
   "source": [
    "f, ax= plt.subplots(k, 1, figsize=(8, 6), sharex=True)  \n",
    "for i, l in enumerate(range(k)):  \n",
    "    ax[i].stem(ans_real_world[2][:,l], linefmt='b-',  \n",
    "               markerfmt='bo', basefmt='w-')   \n",
    "    #ax[i].set_xlim(-50,4350)  \n",
    "    #ax[i].set_ylim(0, 0.08)\n",
    "    ax[i].set_ylabel(\"Prob\")  \n",
    "    ax[i].set_title(\"topic {}\".format(k))  \n",
    "  \n",
    "ax[3].set_xlabel(\"word\")  \n",
    "  \n",
    "plt.tight_layout()  \n",
    "plt.show()  \n",
    "pass\n",
    "plt.savefig('real.jpg')"
   ]
  },
  {
   "cell_type": "code",
   "execution_count": null,
   "metadata": {},
   "outputs": [],
   "source": []
  }
 ],
 "metadata": {
  "kernelspec": {
   "display_name": "Python 3",
   "language": "python",
   "name": "python3"
  },
  "language_info": {
   "codemirror_mode": {
    "name": "ipython",
    "version": 3
   },
   "file_extension": ".py",
   "mimetype": "text/x-python",
   "name": "python",
   "nbconvert_exporter": "python",
   "pygments_lexer": "ipython3",
   "version": "3.6.5"
  }
 },
 "nbformat": 4,
 "nbformat_minor": 2
}
