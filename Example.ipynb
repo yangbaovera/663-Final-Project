{
 "cells": [
  {
   "cell_type": "markdown",
   "metadata": {},
   "source": [
    "# Original code example"
   ]
  },
  {
   "cell_type": "code",
   "execution_count": 1,
   "metadata": {},
   "outputs": [],
   "source": [
    "import numpy as np\n",
    "from scipy.special import digamma, polygamma\n",
    "\n",
    "# convergence function\n",
    "def is_convergence1(old, new, tol = 10**(-2)):\n",
    "    \"\"\"\n",
    "    output:\n",
    "    TRUR or FALSE\n",
    "    \"\"\"\n",
    "    loss = np.sqrt(list(map(np.sum,np.square(old - new))))\n",
    "    return np.max(loss) <= tol\n",
    "\n",
    "def is_convergence2(old, new, tol = 10**(-2)):\n",
    "    \"\"\"\n",
    "    output:\n",
    "    TRUR or FALSE\n",
    "    \"\"\"\n",
    "    loss = np.sqrt(np.sum(np.square(old - new)))\n",
    "    return np.max(loss) <= tol\n",
    "\n",
    "def optimize_vp(phi, gamma, alpha, beta, words, M, N, K, max_iter=500):\n",
    "    '''\n",
    "    optimize the variational parameter\n",
    "    \n",
    "    Parameters\n",
    "    ----------\n",
    "    phi:   ndarray\n",
    "           An array of topic-word matrix\n",
    "    gamma: ndarray\n",
    "           A matrix of doc-topic\n",
    "    alpha: ndarray\n",
    "           the parameter of doc-topic dirichlet distribution\n",
    "    beta:  ndarray\n",
    "           the parameter of topic-word dirichlet distribution\n",
    "    words: list \n",
    "           the list of lists of words in all \n",
    "    M : int, the number of documents\n",
    "    N : ndarraay, the number of words in each document\n",
    "    K : int, the number of topics in the corpus\n",
    "    Returns\n",
    "    -------\n",
    "    out : list of ndarray\n",
    "          the optimized and normalized(sum to 1) phi \n",
    "    '''\n",
    "    \n",
    "    for t in range(max_iter):\n",
    "        phi_old = phi\n",
    "        gamma_old = gamma\n",
    "        #update phi\n",
    "        for m in range(M):\n",
    "            for n in range(N[m]):\n",
    "                for i in range(K):\n",
    "                    phi[m][n,i] = beta[i,np.int(words[m][n])] * np.exp(digamma(gamma[m,i]))\n",
    "                #nomalize to 1)\n",
    "                phi[m][n,:] = phi[m][n,:]/np.sum(phi[m][n,:])\n",
    "        phi_new = phi\n",
    "        #update gamma\n",
    "        for i in range(M):\n",
    "            gamma[i,:]  = alpha + np.sum(phi[i], axis = 0)\n",
    "        gamma_new = gamma\n",
    "        \n",
    "        if is_convergence1(phi_old, phi_new) == True and is_convergence2(gamma_old, gamma_new) == True:\n",
    "            break\n",
    "   \n",
    "    return phi, gamma"
   ]
  },
  {
   "cell_type": "code",
   "execution_count": 2,
   "metadata": {},
   "outputs": [],
   "source": [
    "# estimate alpha\n",
    "def alpha_estimate(gamma, alpha_initial, K, M, max_iter = 100):\n",
    "    \"\"\"\n",
    "    This is an estimation function, especially used in the process of LDA algorithm.\n",
    "    digamma function and polygamma function are used in the following process.\n",
    "    \n",
    "    input:\n",
    "    alpha_initial: the initial setting of alpha, it is an 1*K vector\n",
    "    K: the number of topics\n",
    "    M: the number of documents\n",
    "    gamma: the result from another update function (see gamma_update())\n",
    "    \"\"\"\n",
    "    from scipy.special import digamma, polygamma\n",
    "    \n",
    "    alpha = alpha_initial\n",
    "    for t in range(max_iter):\n",
    "        alpha_old = alpha\n",
    "        \n",
    "        # compute the gradient vector and the diagonal part of the Hessian matrix\n",
    "        g = np.zeros(K)\n",
    "        h = np.zeros(K)\n",
    "        for i in range(K):\n",
    "            g1 = M*(digamma(np.sum(alpha))-digamma(alpha[i]))\n",
    "            g2 = 0\n",
    "            for d in range(M):\n",
    "                g2 += digamma(gamma[d,i])-digamma(np.sum(gamma[d,:]))\n",
    "            g[i] = g1 + g2\n",
    "            \n",
    "            h[i] = -M*polygamma(1, alpha[i])\n",
    "        \n",
    "        # compute the constant part\n",
    "        z = M*polygamma(1, np.sum(alpha))\n",
    "        c = (np.sum(g/h))/(z**(-1) + np.sum(h**(-1)))\n",
    "                           \n",
    "        # update alpha                   \n",
    "        alpha -= (g-c)/h\n",
    "        \n",
    "        if is_convergence2(alpha_old, alpha):\n",
    "            break\n",
    "            \n",
    "    return alpha"
   ]
  },
  {
   "cell_type": "code",
   "execution_count": 3,
   "metadata": {},
   "outputs": [],
   "source": [
    "# estimate beta\n",
    "def beta_estimate(K, V_words, phi, D):\n",
    "    \n",
    "    \"\"\"\n",
    "    This is an estimation function, especially used in the process of LDA algorithm\n",
    "    \n",
    "    input:\n",
    "    K: the number of topics\n",
    "    V_words: a vector of all unique words in the vocabulary\n",
    "    D: D = (w_1,w_2,...w_M), contains all words in all documents\n",
    "    phi: the result from another update function (see phi_update())\n",
    "    \n",
    "    output:\n",
    "    beta: the estimate parameter for LDA, it is a K*V matrix\n",
    "    \"\"\"\n",
    "    V = len(V_words)\n",
    "    beta = np.ones((K,V))\n",
    "    # first obtain the propotion values\n",
    "    for j in range(V):\n",
    "        word = V_words[j]\n",
    "        # give a TRUE or FALSE \"matrix\", remember w_mnj should have the same shape with phi\n",
    "        w_mnj = [np.repeat(w==word, K).reshape((len(w),K)) for w in D]\n",
    "        # compute the inner sum over number of words\n",
    "        sum1 = list(map(lambda x: np.sum(x,axis=0),phi*w_mnj))\n",
    "        # compute the outer sum over documents\n",
    "        beta[:,j] = np.sum(np.array(sum1), axis = 0)\n",
    "    \n",
    "    # then normalize each row s.t. the row sum is one\n",
    "    for i in range(K):\n",
    "        beta[i,:] = beta[i,:]/sum(beta[i,:])\n",
    "        \n",
    "    return beta"
   ]
  },
  {
   "cell_type": "code",
   "execution_count": 4,
   "metadata": {},
   "outputs": [],
   "source": [
    "import numpy as np\n",
    "from scipy.special import digamma, polygamma"
   ]
  },
  {
   "cell_type": "code",
   "execution_count": 5,
   "metadata": {},
   "outputs": [],
   "source": [
    "# Variation EM\n",
    "def variation_EM(M, K, D, N, V_words, alpha_initial, beta_initial, gamma_initial, phi_initial, iteration = 1000):\n",
    "    \n",
    "    phi_gamma = optimize_vp(phi_initial, gamma_initial, alpha_initial, beta_initial, w_struct, M, N, K)\n",
    "    phi = phi_gamma[0]\n",
    "    gamma = phi_gamma[1]\n",
    "    \n",
    "     \n",
    "    (alpha, beta) = (alpha_initial, beta_initial)\n",
    "    \n",
    "    for t in range(iteration):\n",
    "        \n",
    "        (phi_old, gamma_old) = (phi, gamma)\n",
    "        \n",
    "        alpha = alpha_estimate(gamma, alpha, K, M)\n",
    "        beta = beta_estimate(K, V_words, phi, D)\n",
    "        \n",
    "        phi_gamma1 = optimize_vp(phi, gamma, alpha, beta, D, M, N, K)\n",
    "        phi = phi_gamma1[0]\n",
    "        gamma = phi_gamma1[1]\n",
    "        \n",
    "        if is_convergence2(gamma_old, gamma) and is_convergence1(phi_old, phi):\n",
    "            break\n",
    "    \n",
    "    return alpha, beta, gamma, phi"
   ]
  },
  {
   "cell_type": "code",
   "execution_count": null,
   "metadata": {},
   "outputs": [],
   "source": []
  },
  {
   "cell_type": "code",
   "execution_count": null,
   "metadata": {},
   "outputs": [],
   "source": []
  },
  {
   "cell_type": "code",
   "execution_count": null,
   "metadata": {},
   "outputs": [],
   "source": []
  },
  {
   "cell_type": "code",
   "execution_count": 6,
   "metadata": {},
   "outputs": [],
   "source": [
    "np.random.seed(1337)\n",
    "\n",
    "M = 300\n",
    "k = 10\n",
    "N = np.random.randint(150,200,size=M)\n",
    "V = 30\n",
    "\n",
    "# Create 3 groups of documents, each with a topic preference\n",
    "alpha_gen1 = np.array((20,15,10,1,1,1,1,1,1,1))\n",
    "alpha_gen2 = np.array((1,1,1,10,15,20,1,1,1,1))\n",
    "alpha_gen3 = np.array((1,1,1,1,1,1,10,12,15,18))\n",
    "\n",
    "# Arbitrarily choose each topic to have 3 very common words\n",
    "beta_probs = np.ones((V,k)) + np.array([np.arange(V)%k==i for i in range(k)]).T*19\n",
    "beta_gen = np.array(list(map(lambda x: np.random.dirichlet(x),beta_probs.T))).T\n",
    "\n",
    "w_struct = list();\n",
    "theta = np.empty((M,k))\n",
    "\n",
    "# Generate each document\n",
    "for m in range(M):\n",
    "    # Draw topic distribution for the document\n",
    "    if m<M/3:\n",
    "        theta[m,:] = np.random.dirichlet(alpha_gen1,1)[0]\n",
    "    elif m<2*M/3:\n",
    "        theta[m,:] = np.random.dirichlet(alpha_gen2,1)[0]\n",
    "    else:\n",
    "        theta[m,:] = np.random.dirichlet(alpha_gen3,1)[0]\n",
    "    doc = np.array([])\n",
    "    \n",
    "    for n in range(N[m]):\n",
    "        # Draw topic according to document's topic distribution\n",
    "        z_n = np.random.choice(np.arange(k),p=theta[m,:])\n",
    "        # Draw word according to topic\n",
    "        w_n = np.random.choice(np.arange(V),p=beta_gen[:,z_n])\n",
    "        doc = np.append(doc,w_n)\n",
    "    w_struct.append(doc)"
   ]
  },
  {
   "cell_type": "code",
   "execution_count": 7,
   "metadata": {},
   "outputs": [],
   "source": [
    "V_words = range(30)\n",
    "alpha = np.random.dirichlet(10*np.ones(k),1)[0]\n",
    "beta = np.random.dirichlet(np.ones(V),k)\n",
    "\n",
    "phi = np.array([1/k*np.ones([N[m],k]) for m in range(M)])\n",
    "gamma = np.tile(alpha,(M,1)) + np.tile(N/k,(k,1)).T"
   ]
  },
  {
   "cell_type": "code",
   "execution_count": 12,
   "metadata": {},
   "outputs": [
    {
     "data": {
      "text/plain": [
       "<matplotlib.image.AxesImage at 0x7f6cad53f9e8>"
      ]
     },
     "execution_count": 12,
     "metadata": {},
     "output_type": "execute_result"
    },
    {
     "data": {
      "image/png": "[encoded data removed]",
      "text/plain": [
       "<Figure size 432x288 with 1 Axes>"
      ]
     },
     "metadata": {},
     "output_type": "display_data"
    }
   ],
   "source": [
    "import matplotlib.pyplot as plt\n",
    "plt.imshow(beta_gen, interpolation='nearest', aspect='auto')\n"
   ]
  },
  {
   "cell_type": "code",
   "execution_count": 9,
   "metadata": {},
   "outputs": [],
   "source": [
    "ans = variation_EM(M, k, w_struct, N, V_words, alpha, beta, gamma, phi, iteration = 1000)"
   ]
  },
  {
   "cell_type": "code",
   "execution_count": 10,
   "metadata": {},
   "outputs": [
    {
     "data": {
      "text/plain": [
       "<matplotlib.image.AxesImage at 0x7f6cad603b00>"
      ]
     },
     "execution_count": 10,
     "metadata": {},
     "output_type": "execute_result"
    },
    {
     "data": {
      "image/png": "[encoded data removed]",
      "text/plain": [
       "<Figure size 432x288 with 1 Axes>"
      ]
     },
     "metadata": {},
     "output_type": "display_data"
    }
   ],
   "source": [
    "plt.imshow(ans[1].T,interpolation='nearest', aspect='auto')"
   ]
  },
  {
   "cell_type": "code",
   "execution_count": 11,
   "metadata": {},
   "outputs": [
    {
     "data": {
      "text/plain": [
       "<matplotlib.image.AxesImage at 0x7f6cad5e8a90>"
      ]
     },
     "execution_count": 11,
     "metadata": {},
     "output_type": "execute_result"
    },
    {
     "data": {
      "image/png": "[encoded data removed]",
      "text/plain": [
       "<Figure size 432x288 with 1 Axes>"
      ]
     },
     "metadata": {},
     "output_type": "display_data"
    }
   ],
   "source": [
    "plt.imshow(ans[2], interpolation='nearest', aspect='auto')"
   ]
  },
  {
   "cell_type": "code",
   "execution_count": 24,
   "metadata": {},
   "outputs": [
    {
     "data": {
      "text/plain": [
       "[<matplotlib.lines.Line2D at 0x7f6cad19d978>]"
      ]
     },
     "execution_count": 24,
     "metadata": {},
     "output_type": "execute_result"
    },
    {
     "data": {
      "image/png": "[encoded data removed]",
      "text/plain": [
       "<Figure size 432x288 with 1 Axes>"
      ]
     },
     "metadata": {},
     "output_type": "display_data"
    }
   ],
   "source": [
    "plt.plot(beta_gen[:,0])\n",
    "plt.plot(ans[1].T[:,0], \"o\")"
   ]
  },
  {
   "cell_type": "code",
   "execution_count": 18,
   "metadata": {},
   "outputs": [
    {
     "data": {
      "text/plain": [
       "[<matplotlib.lines.Line2D at 0x7f6cad333c18>]"
      ]
     },
     "execution_count": 18,
     "metadata": {},
     "output_type": "execute_result"
    },
    {
     "data": {
      "image/png": "[encoded data removed]",
      "text/plain": [
       "<Figure size 432x288 with 1 Axes>"
      ]
     },
     "metadata": {},
     "output_type": "display_data"
    }
   ],
   "source": [
    "plt.plot(beta_gen[:,5])\n",
    "plt.plot(ans[1].T[:,5], \"o\")"
   ]
  },
  {
   "cell_type": "code",
   "execution_count": 72,
   "metadata": {},
   "outputs": [
    {
     "data": {
      "text/plain": [
       "[<matplotlib.lines.Line2D at 0x7f6cd820b9b0>]"
      ]
     },
     "execution_count": 72,
     "metadata": {},
     "output_type": "execute_result"
    },
    {
     "data": {
      "image/png": "[encoded data removed]",
      "text/plain": [
       "<Figure size 432x288 with 1 Axes>"
      ]
     },
     "metadata": {},
     "output_type": "display_data"
    }
   ],
   "source": [
    "plt.plot(beta_gen[:,9])\n",
    "plt.plot(ans[1].T[:,9])"
   ]
  },
  {
   "cell_type": "code",
   "execution_count": null,
   "metadata": {},
   "outputs": [],
   "source": []
  },
  {
   "cell_type": "markdown",
   "metadata": {},
   "source": [
    "# Optimazed code example"
   ]
  },
  {
   "cell_type": "code",
   "execution_count": null,
   "metadata": {},
   "outputs": [],
   "source": []
  },
  {
   "cell_type": "code",
   "execution_count": 25,
   "metadata": {},
   "outputs": [],
   "source": [
    "# a new function to calculate log of sum\n",
    "def log_sum(log_a, log_b):\n",
    "    \"\"\"\n",
    "    input: log(a), log(b)\n",
    "    output: log(a+b)\n",
    "    \"\"\"\n",
    "    return log_a + np.log(1+np.exp(log_b - log_a))\n",
    "\n",
    "\n",
    "\n",
    "def optimize_vp_opt(phi, gamma, alpha, beta, words, M, N, K, max_iter=500):\n",
    "    '''\n",
    "    optimize the variational parameter\n",
    "    \n",
    "    Parameters\n",
    "    ----------\n",
    "    phi:   ndarray\n",
    "           An array of topic-word matrix\n",
    "    gamma: ndarray\n",
    "           A matrix of doc-topic\n",
    "    alpha: ndarray\n",
    "           the parameter of doc-topic dirichlet distribution\n",
    "    beta:  ndarray\n",
    "           the parameter of topic-word dirichlet distribution\n",
    "    words: list \n",
    "           the list of lists of words in all \n",
    "    M : int, the number of documents\n",
    "    N : ndarraay, the number of words in each document\n",
    "    K : int, the number of topics in the corpus\n",
    "    Returns\n",
    "    -------\n",
    "    out : list of ndarray\n",
    "          the optimized and normalized(sum to 1) phi \n",
    "    '''\n",
    "    \n",
    "    for t in range(max_iter):\n",
    "        phi_old = phi\n",
    "        \n",
    "        # we use log(phi) here and following processes\n",
    "        log_phi = np.array(list(map(np.log, phi)))\n",
    "        gamma_old = gamma\n",
    "       \n",
    "        for m in range(M):\n",
    "            for n in range(N[m]):\n",
    "                \n",
    "                logsum = 0\n",
    "                for i in range(K):\n",
    "                    \n",
    "                    # use new method in log form to update phi\n",
    "                    log_phi[m][n,i] = np.log(beta[i,np.int(words[m][n])]) + digamma(gamma[m,i])\n",
    "                    \n",
    "                    logsum = log_sum(logsum, log_phi[m][n,i])\n",
    "                # use new metohd to implement nomalization\n",
    "                log_phi_mn = log_phi[m][n,:] - logsum\n",
    "                log_phi[m][n,:] = log_phi_mn\n",
    "                \n",
    "                phi[m][n,:] = np.exp(log_phi_mn)\n",
    "        \n",
    "            # instead of alpha, use old phi and new phi to iterative\n",
    "            d_phi = phi[m] - phi_old[m]\n",
    "            gamma[m,:]  = gamma[m,:] + np.sum(d_phi, axis = 0)\n",
    "            \n",
    "        phi_new = phi\n",
    "        gamma_new = gamma\n",
    "        \n",
    "        if is_convergence1(phi_old, phi_new) == True and is_convergence2(gamma_old, gamma_new) == True:\n",
    "            break\n",
    "   \n",
    "    return phi, gamma\n"
   ]
  },
  {
   "cell_type": "code",
   "execution_count": 26,
   "metadata": {},
   "outputs": [],
   "source": [
    "\n",
    "# estimate alpha\n",
    "def alpha_estimate_opt(gamma, alpha_initial, K, M, max_iter = 100):\n",
    "    \"\"\"\n",
    "    This is an estimation function, especially used in the process of LDA algorithm.\n",
    "    digamma function and polygamma function are used in the following process.\n",
    "    \n",
    "    input:\n",
    "    alpha_initial: the initial setting of alpha, it is an 1*K vector\n",
    "    K: the number of topics\n",
    "    M: the number of documents\n",
    "    gamma: the result from another update function (see gamma_update())\n",
    "    \"\"\"\n",
    "    from scipy.special import digamma, polygamma\n",
    "    \n",
    "    alpha = alpha_initial\n",
    "    for t in range(max_iter):\n",
    "        alpha_old = alpha\n",
    "        \n",
    "        # we use vector instead of calculating in loop\n",
    "        g = M*(digamma(np.sum(alpha))-digamma(alpha)) \n",
    "        + np.sum(digamma(gamma) -np.tile(digamma(np.sum(gamma,axis=1)),(K,1)).T,axis=0)\n",
    "        h = -M*polygamma(1,alpha)\n",
    "        \n",
    "        z = M*polygamma(1, np.sum(alpha))\n",
    "        c = (np.sum(g/h))/(z**(-1) + np.sum(h**(-1)))\n",
    "                           \n",
    "        # update alpha                   \n",
    "        alpha -= (g-c)/h\n",
    "        \n",
    "        if is_convergence2(alpha_old, alpha):\n",
    "            break\n",
    "            \n",
    "    return alpha\n"
   ]
  },
  {
   "cell_type": "code",
   "execution_count": 27,
   "metadata": {},
   "outputs": [],
   "source": [
    "# estimate beta\n",
    "def beta_estimate_opt(K, V_words, phi, D):\n",
    "    \n",
    "    \"\"\"\n",
    "    This is an estimation function, especially used in the process of LDA algorithm\n",
    "    \n",
    "    input:\n",
    "    K: the number of topics\n",
    "    V_words: a vector of all unique words in the vocabulary\n",
    "    D: D = (w_1,w_2,...w_M), contains all words in all documents\n",
    "    phi: the result from another update function (see phi_update())\n",
    "    \n",
    "    output:\n",
    "    beta: the estimate parameter for LDA, it is a K*V matrix\n",
    "    \"\"\"\n",
    "    V = len(V_words)\n",
    "    beta = np.ones((K,V))\n",
    "    # first obtain the propotion values\n",
    "    for j in range(V):\n",
    "        word = V_words[j]\n",
    "        # give a TRUE or FALSE \"matrix\", remember w_mnj should have the same shape with phi\n",
    "        w_mnj = [np.repeat(w==word, K).reshape((len(w),K)) for w in D]\n",
    "        # compute the inner sum over number of words\n",
    "        sum1 = list(map(lambda x: np.sum(x,axis=0),phi*w_mnj))\n",
    "        # compute the outer sum over documents\n",
    "        beta[:,j] = np.sum(np.array(sum1), axis = 0)\n",
    "    \n",
    "    # then normalize each row s.t. the row sum is one, in vector method\n",
    "    beta= beta/ np.sum(beta, axis = 1).reshape((-1,1))\n",
    "        \n",
    "    return beta\n"
   ]
  },
  {
   "cell_type": "code",
   "execution_count": 28,
   "metadata": {},
   "outputs": [],
   "source": [
    "# Optimize variation EM\n",
    "def variation_EM_new(M, K, D, N, V_words, alpha_initial, beta_initial, gamma_initial, phi_initial, iteration = 1000):\n",
    "    \n",
    "    phi_gamma = optimize_vp_opt(phi_initial, gamma_initial, alpha_initial, beta_initial, w_struct, M, N, K)\n",
    "    phi = phi_gamma[0]\n",
    "    gamma = phi_gamma[1]\n",
    "    \n",
    "     \n",
    "    (alpha, beta) = (alpha_initial, beta_initial)\n",
    "    \n",
    "    for t in range(iteration):\n",
    "        \n",
    "        (phi_old, gamma_old) = (phi, gamma)\n",
    "        \n",
    "        alpha = alpha_estimate_opt(gamma, alpha, K, M)\n",
    "        beta = beta_estimate_opt(K, V_words, phi, D)\n",
    "        \n",
    "        phi_gamma1 = optimize_vp_opt(phi, gamma, alpha, beta, D, M, N, K)\n",
    "        phi = phi_gamma1[0]\n",
    "        gamma = phi_gamma1[1]\n",
    "        \n",
    "        if is_convergence2(gamma_old, gamma) and is_convergence1(phi_old, phi):\n",
    "            break\n",
    "    \n",
    "    return alpha, beta, gamma, phi\n"
   ]
  },
  {
   "cell_type": "code",
   "execution_count": 29,
   "metadata": {},
   "outputs": [],
   "source": [
    "V_words = range(30)\n",
    "alpha = np.random.dirichlet(10*np.ones(k),1)[0]\n",
    "beta = np.random.dirichlet(np.ones(V),k)\n",
    "\n",
    "phi = np.array([1/k*np.ones([N[m],k]) for m in range(M)])\n",
    "gamma = np.tile(alpha,(M,1)) + np.tile(N/k,(k,1)).T"
   ]
  },
  {
   "cell_type": "code",
   "execution_count": 30,
   "metadata": {},
   "outputs": [],
   "source": [
    "ans1 = variation_EM_new(M, k, w_struct, N, V_words, alpha, beta, gamma, phi, iteration = 1000)"
   ]
  },
  {
   "cell_type": "code",
   "execution_count": 31,
   "metadata": {},
   "outputs": [
    {
     "data": {
      "text/plain": [
       "<matplotlib.image.AxesImage at 0x7f6cad073588>"
      ]
     },
     "execution_count": 31,
     "metadata": {},
     "output_type": "execute_result"
    },
    {
     "data": {
      "image/png": "[encoded data removed]",
      "text/plain": [
       "<Figure size 432x288 with 1 Axes>"
      ]
     },
     "metadata": {},
     "output_type": "display_data"
    }
   ],
   "source": [
    "plt.imshow(ans1[1].T,interpolation='nearest', aspect='auto')"
   ]
  },
  {
   "cell_type": "code",
   "execution_count": 32,
   "metadata": {},
   "outputs": [
    {
     "data": {
      "text/plain": [
       "<matplotlib.image.AxesImage at 0x7f6cad050cf8>"
      ]
     },
     "execution_count": 32,
     "metadata": {},
     "output_type": "execute_result"
    },
    {
     "data": {
      "image/png": "[encoded data removed]",
      "text/plain": [
       "<Figure size 432x288 with 1 Axes>"
      ]
     },
     "metadata": {},
     "output_type": "display_data"
    }
   ],
   "source": [
    "plt.imshow(ans1[2].T,interpolation='nearest', aspect='auto') #aaaaa why!!!!"
   ]
  },
  {
   "cell_type": "code",
   "execution_count": 41,
   "metadata": {},
   "outputs": [
    {
     "data": {
      "text/plain": [
       "[<matplotlib.lines.Line2D at 0x7f6cace16eb8>]"
      ]
     },
     "execution_count": 41,
     "metadata": {},
     "output_type": "execute_result"
    },
    {
     "data": {
      "image/png": "[encoded data removed]",
      "text/plain": [
       "<Figure size 432x288 with 1 Axes>"
      ]
     },
     "metadata": {},
     "output_type": "display_data"
    }
   ],
   "source": [
    "plt.plot(beta_gen[:,0])\n",
    "plt.plot(ans1[1].T[:,0], \"o\")"
   ]
  },
  {
   "cell_type": "code",
   "execution_count": 50,
   "metadata": {},
   "outputs": [
    {
     "data": {
      "text/plain": [
       "[<matplotlib.lines.Line2D at 0x7f6caca118d0>]"
      ]
     },
     "execution_count": 50,
     "metadata": {},
     "output_type": "execute_result"
    },
    {
     "data": {
      "image/png": "[encoded data removed]",
      "text/plain": [
       "<Figure size 432x288 with 1 Axes>"
      ]
     },
     "metadata": {},
     "output_type": "display_data"
    }
   ],
   "source": [
    "plt.plot(beta_gen[:,5])\n",
    "plt.plot(ans1[1].T[:,5], \"o\")"
   ]
  },
  {
   "cell_type": "code",
   "execution_count": null,
   "metadata": {},
   "outputs": [],
   "source": []
  },
  {
   "cell_type": "markdown",
   "metadata": {},
   "source": [
    "# Real world data"
   ]
  },
  {
   "cell_type": "code",
   "execution_count": null,
   "metadata": {},
   "outputs": [],
   "source": [
    "# pip install nltk\n",
    "# pip install stop-words\n",
    "# easy_install -U gensim"
   ]
  },
  {
   "cell_type": "code",
   "execution_count": 61,
   "metadata": {},
   "outputs": [],
   "source": [
    "from nltk.tokenize import RegexpTokenizer\n",
    "from stop_words import get_stop_words\n",
    "from nltk.stem.porter import PorterStemmer\n",
    "from gensim import corpora, models\n",
    "import gensim\n",
    "\n",
    "tokenizer = RegexpTokenizer(r'\\w+')\n",
    "\n",
    "# create English stop words list\n",
    "en_stop = get_stop_words('en')\n",
    "\n",
    "# Create p_stemmer of class PorterStemmer\n",
    "p_stemmer = PorterStemmer()\n",
    "    \n",
    "# create sample documents\n",
    "doc_a = \"Brocolli is good to eat. My brother likes to eat good brocolli, but not my mother.\"\n",
    "doc_b = \"My mother spends a lot of time driving my brother around to baseball practice.\"\n",
    "doc_c = \"Some health experts suggest that driving may cause increased tension and blood pressure.\"\n",
    "doc_d = \"I often feel pressure to perform well at school, but my mother never seems to drive my brother to do better.\"\n",
    "doc_e = \"Health professionals say that brocolli is good for your health.\" \n",
    "\n",
    "# compile sample documents into a list\n",
    "doc_set = [doc_a, doc_b, doc_c, doc_d, doc_e]\n",
    "\n",
    "# list for tokenized documents in loop\n",
    "texts = []\n",
    "\n",
    "# loop through document list\n",
    "for i in doc_set:\n",
    "    \n",
    "    # clean and tokenize document string\n",
    "    raw = i.lower()\n",
    "    tokens = tokenizer.tokenize(raw)\n",
    "\n",
    "    # remove stop words from tokens\n",
    "    stopped_tokens = [i for i in tokens if not i in en_stop]\n",
    "    \n",
    "    # stem tokens\n",
    "    stemmed_tokens = [p_stemmer.stem(i) for i in stopped_tokens]\n",
    "    \n",
    "    # add tokens to list\n",
    "    texts.append(stemmed_tokens)\n",
    "\n",
    "# turn our tokenized documents into a id <-> term dictionary\n",
    "dictionary = corpora.Dictionary(texts)\n",
    "    \n",
    "# convert tokenized documents into a document-term matrix\n",
    "corpus = [dictionary.doc2bow(text) for text in texts]\n",
    "\n",
    "# generate LDA model\n",
    "ldamodel = gensim.models.ldamodel.LdaModel(corpus, num_topics=2, id2word = dictionary, passes=20)"
   ]
  },
  {
   "cell_type": "code",
   "execution_count": null,
   "metadata": {},
   "outputs": [],
   "source": []
  },
  {
   "cell_type": "code",
   "execution_count": 62,
   "metadata": {},
   "outputs": [
    {
     "name": "stdout",
     "output_type": "stream",
     "text": [
      "[(0, '0.068*\"mother\" + 0.068*\"brother\" + 0.067*\"brocolli\" + 0.067*\"good\"'), (1, '0.060*\"health\" + 0.058*\"pressur\" + 0.058*\"drive\" + 0.057*\"caus\"')]\n"
     ]
    }
   ],
   "source": [
    "# LDA\n",
    "print(ldamodel.print_topics(num_topics=2, num_words=4))\n"
   ]
  },
  {
   "cell_type": "code",
   "execution_count": null,
   "metadata": {},
   "outputs": [],
   "source": []
  },
  {
   "cell_type": "code",
   "execution_count": 68,
   "metadata": {},
   "outputs": [],
   "source": [
    "#LSI\n",
    "lsi = models.LsiModel(corpus, id2word=dictionary, num_topics=1000)"
   ]
  },
  {
   "cell_type": "code",
   "execution_count": 70,
   "metadata": {},
   "outputs": [
    {
     "name": "stdout",
     "output_type": "stream",
     "text": [
      "[(0, '0.424*\"brocolli\" + 0.424*\"good\" + 0.350*\"eat\" + 0.346*\"brother\"'), (1, '0.376*\"drive\" + -0.349*\"good\" + -0.349*\"brocolli\" + 0.285*\"pressur\"')]\n"
     ]
    }
   ],
   "source": [
    "print(lsi.print_topics(num_topics=2, num_words=4))\n"
   ]
  },
  {
   "cell_type": "code",
   "execution_count": null,
   "metadata": {},
   "outputs": [],
   "source": []
  }
 ],
 "metadata": {
  "kernelspec": {
   "display_name": "Python 3",
   "language": "python",
   "name": "python3"
  },
  "language_info": {
   "codemirror_mode": {
    "name": "ipython",
    "version": 3
   },
   "file_extension": ".py",
   "mimetype": "text/x-python",
   "name": "python",
   "nbconvert_exporter": "python",
   "pygments_lexer": "ipython3",
   "version": "3.6.5"
  }
 },
 "nbformat": 4,
 "nbformat_minor": 2
}
